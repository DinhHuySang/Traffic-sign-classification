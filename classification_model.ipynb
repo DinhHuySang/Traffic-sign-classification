{
  "nbformat": 4,
  "nbformat_minor": 0,
  "metadata": {
    "colab": {
      "name": "classification_model.ipynb",
      "provenance": [],
      "mount_file_id": "14JbecthYcp-kfuupvCxk1y307hU2kZo9",
      "authorship_tag": "ABX9TyNymUvX9ZuaIsydQgl6TrV6",
      "include_colab_link": true
    },
    "kernelspec": {
      "name": "python3",
      "display_name": "Python 3"
    },
    "accelerator": "GPU"
  },
  "cells": [
    {
      "cell_type": "markdown",
      "metadata": {
        "id": "view-in-github",
        "colab_type": "text"
      },
      "source": [
        "<a href=\"https://colab.research.google.com/github/DinhHuySang/Traffic-sign-classification/blob/master/classification_model.ipynb\" target=\"_parent\"><img src=\"https://colab.research.google.com/assets/colab-badge.svg\" alt=\"Open In Colab\"/></a>"
      ]
    },
    {
      "cell_type": "code",
      "metadata": {
        "id": "WhYPe6KBYuZS",
        "colab_type": "code",
        "outputId": "4a788741-97b2-4fa1-c5e0-27b244faaa2b",
        "colab": {
          "base_uri": "https://localhost:8080/",
          "height": 34
        }
      },
      "source": [
        "import tensorflow as tf\n",
        "tf.__version__"
      ],
      "execution_count": 1,
      "outputs": [
        {
          "output_type": "execute_result",
          "data": {
            "text/plain": [
              "'2.2.0'"
            ]
          },
          "metadata": {
            "tags": []
          },
          "execution_count": 1
        }
      ]
    },
    {
      "cell_type": "code",
      "metadata": {
        "id": "WG2LgtMmdlfE",
        "colab_type": "code",
        "outputId": "1d234e0e-094e-454a-a264-ad75d2aa115f",
        "colab": {
          "base_uri": "https://localhost:8080/",
          "height": 34
        }
      },
      "source": [
        "from google.colab import drive\n",
        "drive.mount(\"/content/drive\")"
      ],
      "execution_count": 2,
      "outputs": [
        {
          "output_type": "stream",
          "text": [
            "Drive already mounted at /content/drive; to attempt to forcibly remount, call drive.mount(\"/content/drive\", force_remount=True).\n"
          ],
          "name": "stdout"
        }
      ]
    },
    {
      "cell_type": "code",
      "metadata": {
        "id": "IYNB3MIkfc1T",
        "colab_type": "code",
        "outputId": "87ac4bde-10c8-4a73-f783-3fcd90580987",
        "colab": {
          "base_uri": "https://localhost:8080/",
          "height": 34
        }
      },
      "source": [
        "cd /content/drive/Shared drives/Drive của Sáng/Traffic_sign_classification_from_scratch"
      ],
      "execution_count": 3,
      "outputs": [
        {
          "output_type": "stream",
          "text": [
            "/content/drive/Shared drives/Drive của Sáng/Traffic_sign_classification_from_scratch\n"
          ],
          "name": "stdout"
        }
      ]
    },
    {
      "cell_type": "code",
      "metadata": {
        "id": "oCWvmczlfs2M",
        "colab_type": "code",
        "outputId": "d9bd3fc5-8850-4d24-e257-5a6ff7334767",
        "colab": {
          "base_uri": "https://localhost:8080/",
          "height": 50
        }
      },
      "source": [
        "ls\n"
      ],
      "execution_count": 4,
      "outputs": [
        {
          "output_type": "stream",
          "text": [
            "classification_model.ipynb  sanghandsome.h5  traffic-signs-data.zip  valid.p\n",
            "README.md                   test.p           train.p\n"
          ],
          "name": "stdout"
        }
      ]
    },
    {
      "cell_type": "code",
      "metadata": {
        "id": "fmHHFkmgf_Ww",
        "colab_type": "code",
        "colab": {}
      },
      "source": [
        "#link_data_set = \"https://d17h27t6h515a5.cloudfront.net/topher/2017/February/5898cd6f_traffic-signs-data/traffic-signs-data.zip\"\n"
      ],
      "execution_count": 0,
      "outputs": []
    },
    {
      "cell_type": "code",
      "metadata": {
        "id": "pJXKNCjncvVi",
        "colab_type": "code",
        "outputId": "fb604fd5-32e8-4517-c55f-dc62edaeacdb",
        "colab": {
          "base_uri": "https://localhost:8080/",
          "height": 34
        }
      },
      "source": [
        "!pip install wget"
      ],
      "execution_count": 6,
      "outputs": [
        {
          "output_type": "stream",
          "text": [
            "Requirement already satisfied: wget in /usr/local/lib/python3.6/dist-packages (3.2)\n"
          ],
          "name": "stdout"
        }
      ]
    },
    {
      "cell_type": "code",
      "metadata": {
        "id": "f1o5rAclc57T",
        "colab_type": "code",
        "colab": {}
      },
      "source": [
        "import wget"
      ],
      "execution_count": 0,
      "outputs": []
    },
    {
      "cell_type": "code",
      "metadata": {
        "id": "mDcRg-mNdB9B",
        "colab_type": "code",
        "colab": {}
      },
      "source": [
        "#wget.download(link_data_set)"
      ],
      "execution_count": 0,
      "outputs": []
    },
    {
      "cell_type": "code",
      "metadata": {
        "id": "jDXfU4qZdgvV",
        "colab_type": "code",
        "colab": {}
      },
      "source": [
        "data = \"./\""
      ],
      "execution_count": 0,
      "outputs": []
    },
    {
      "cell_type": "code",
      "metadata": {
        "id": "DwT_JFiKdxXU",
        "colab_type": "code",
        "colab": {}
      },
      "source": [
        "#!unzip -q traffic-signs-data.zip -d $data\n"
      ],
      "execution_count": 0,
      "outputs": []
    },
    {
      "cell_type": "code",
      "metadata": {
        "id": "OPpU1FmHd58L",
        "colab_type": "code",
        "colab": {}
      },
      "source": [
        "train_link = data+\"train.p\"\n",
        "valid_link = data+\"valid.p\"\n",
        "test_link  = data+\"test.p\"\n"
      ],
      "execution_count": 0,
      "outputs": []
    },
    {
      "cell_type": "code",
      "metadata": {
        "id": "gr5HmZzhftLr",
        "colab_type": "code",
        "colab": {}
      },
      "source": [
        "import pickle"
      ],
      "execution_count": 0,
      "outputs": []
    },
    {
      "cell_type": "code",
      "metadata": {
        "id": "j3pi2SGBfyOf",
        "colab_type": "code",
        "colab": {}
      },
      "source": [
        "with open(train_link, mode=\"rb\") as tr:\n",
        "  train = pickle.load(tr) "
      ],
      "execution_count": 0,
      "outputs": []
    },
    {
      "cell_type": "code",
      "metadata": {
        "id": "C--hQCUIgTRa",
        "colab_type": "code",
        "colab": {}
      },
      "source": [
        "with open(valid_link, mode=\"rb\") as va:\n",
        "  valid = pickle.load(va)"
      ],
      "execution_count": 0,
      "outputs": []
    },
    {
      "cell_type": "code",
      "metadata": {
        "id": "VDK2ixbRgh13",
        "colab_type": "code",
        "colab": {}
      },
      "source": [
        "with open(test_link, mode=\"rb\") as te:\n",
        "  test = pickle.load(te)"
      ],
      "execution_count": 0,
      "outputs": []
    },
    {
      "cell_type": "code",
      "metadata": {
        "id": "owwNRkr2gy1b",
        "colab_type": "code",
        "colab": {}
      },
      "source": [
        "trainX = train[\"features\"]\n",
        "trainy = train[\"labels\"]"
      ],
      "execution_count": 0,
      "outputs": []
    },
    {
      "cell_type": "code",
      "metadata": {
        "id": "lJq7B3EChnHd",
        "colab_type": "code",
        "outputId": "bf73e5f5-e1d8-40b4-d8e3-a7778ade6aa2",
        "colab": {
          "base_uri": "https://localhost:8080/",
          "height": 34
        }
      },
      "source": [
        "trainX.shape"
      ],
      "execution_count": 17,
      "outputs": [
        {
          "output_type": "execute_result",
          "data": {
            "text/plain": [
              "(34799, 32, 32, 3)"
            ]
          },
          "metadata": {
            "tags": []
          },
          "execution_count": 17
        }
      ]
    },
    {
      "cell_type": "code",
      "metadata": {
        "id": "BsbYtNtAhxLr",
        "colab_type": "code",
        "outputId": "d08be188-5546-4025-ca85-64c227bd6e7f",
        "colab": {
          "base_uri": "https://localhost:8080/",
          "height": 34
        }
      },
      "source": [
        "trainy.shape"
      ],
      "execution_count": 18,
      "outputs": [
        {
          "output_type": "execute_result",
          "data": {
            "text/plain": [
              "(34799,)"
            ]
          },
          "metadata": {
            "tags": []
          },
          "execution_count": 18
        }
      ]
    },
    {
      "cell_type": "code",
      "metadata": {
        "id": "oE3gWIDsib6n",
        "colab_type": "code",
        "outputId": "67d28fc4-6a2f-4170-ecb5-c6542c98ac2e",
        "colab": {
          "base_uri": "https://localhost:8080/",
          "height": 840
        }
      },
      "source": [
        "trainX[100]"
      ],
      "execution_count": 19,
      "outputs": [
        {
          "output_type": "execute_result",
          "data": {
            "text/plain": [
              "array([[[197, 166, 123],\n",
              "        [189, 154,  99],\n",
              "        [198, 160, 102],\n",
              "        ...,\n",
              "        [255, 255, 255],\n",
              "        [255, 255, 255],\n",
              "        [255, 255, 255]],\n",
              "\n",
              "       [[170, 139,  97],\n",
              "        [177, 144,  88],\n",
              "        [185, 150,  94],\n",
              "        ...,\n",
              "        [255, 255, 255],\n",
              "        [255, 255, 255],\n",
              "        [255, 255, 255]],\n",
              "\n",
              "       [[165, 135,  96],\n",
              "        [163, 132,  85],\n",
              "        [169, 138,  88],\n",
              "        ...,\n",
              "        [255, 255, 255],\n",
              "        [255, 255, 255],\n",
              "        [255, 255, 255]],\n",
              "\n",
              "       ...,\n",
              "\n",
              "       [[119, 114,  79],\n",
              "        [122, 115,  77],\n",
              "        [131, 121,  86],\n",
              "        ...,\n",
              "        [ 84,  97, 105],\n",
              "        [ 73,  85,  90],\n",
              "        [ 71,  71,  73]],\n",
              "\n",
              "       [[135, 116,  77],\n",
              "        [131, 116,  73],\n",
              "        [129, 117,  78],\n",
              "        ...,\n",
              "        [ 43,  53,  57],\n",
              "        [ 39,  52,  56],\n",
              "        [ 75,  77,  80]],\n",
              "\n",
              "       [[154, 118,  80],\n",
              "        [149, 124,  84],\n",
              "        [136, 122,  84],\n",
              "        ...,\n",
              "        [ 41,  51,  41],\n",
              "        [ 51,  68,  61],\n",
              "        [ 79,  86,  82]]], dtype=uint8)"
            ]
          },
          "metadata": {
            "tags": []
          },
          "execution_count": 19
        }
      ]
    },
    {
      "cell_type": "code",
      "metadata": {
        "id": "mTx_aeaAiizW",
        "colab_type": "code",
        "colab": {}
      },
      "source": [
        "import matplotlib.pyplot as plt\n"
      ],
      "execution_count": 0,
      "outputs": []
    },
    {
      "cell_type": "code",
      "metadata": {
        "id": "H7gyrY7ZipKG",
        "colab_type": "code",
        "outputId": "52904c2c-1080-42fc-da24-fdbc0b90499f",
        "colab": {
          "base_uri": "https://localhost:8080/",
          "height": 283
        }
      },
      "source": [
        "plt.imshow(trainX[100])"
      ],
      "execution_count": 21,
      "outputs": [
        {
          "output_type": "execute_result",
          "data": {
            "text/plain": [
              "<matplotlib.image.AxesImage at 0x7f9fb754b908>"
            ]
          },
          "metadata": {
            "tags": []
          },
          "execution_count": 21
        },
        {
          "output_type": "display_data",
          "data": {
            "image/png": "[encoded data removed]",
            "text/plain": [
              "<Figure size 432x288 with 1 Axes>"
            ]
          },
          "metadata": {
            "tags": [],
            "needs_background": "light"
          }
        }
      ]
    },
    {
      "cell_type": "code",
      "metadata": {
        "id": "LI3C4bYqjfYN",
        "colab_type": "code",
        "outputId": "d96be39b-92df-4369-dca5-ea0adcadbd5b",
        "colab": {
          "base_uri": "https://localhost:8080/",
          "height": 34
        }
      },
      "source": [
        "trainy[100]"
      ],
      "execution_count": 22,
      "outputs": [
        {
          "output_type": "execute_result",
          "data": {
            "text/plain": [
              "41"
            ]
          },
          "metadata": {
            "tags": []
          },
          "execution_count": 22
        }
      ]
    },
    {
      "cell_type": "code",
      "metadata": {
        "id": "1Su4MdAQizaW",
        "colab_type": "code",
        "colab": {}
      },
      "source": [
        "classNames = {\n",
        "    0: 'Speed limit (20km/h)',\n",
        "    1: 'Speed limit (30km/h)',\n",
        "    2: 'Speed limit (50km/h)',\n",
        "    3: 'Speed limit (60km/h)',\n",
        "    4: 'Speed limit (70km/h)',\n",
        "    5: 'Speed limit (80km/h)',\n",
        "    6: 'End of speed limit (80km/h)',\n",
        "    7: 'Speed limit (100km/h)',\n",
        "    8: 'Speed limit (120km/h)',\n",
        "    9: 'No passing',\n",
        "    10: 'No passing for vehicles over 3.5 metric tons',\n",
        "    11: 'Right-of-way at the next intersection',\n",
        "    12: 'Priority road',\n",
        "    13: 'Yield',\n",
        "    14: 'Stop',\n",
        "    15: 'No vehicles',\n",
        "    16: 'Vehicles over 3.5 metric tons prohibited',\n",
        "    17: 'No entry',\n",
        "    18: 'General caution',\n",
        "    19: 'Dangerous curve to the left',\n",
        "    20: 'Dangerous curve to the right',\n",
        "    21: 'Double curve',\n",
        "    22: 'Bumpy road',\n",
        "    23: 'Slippery road',\n",
        "    24: 'Road narrows on the right',\n",
        "    25: 'Road work',\n",
        "    26: 'Traffic signals',\n",
        "    27: 'Pedestrians',\n",
        "    28: 'Children crossing',\n",
        "    29: 'Bicycles crossing',\n",
        "    30: 'Beware of ice/snow',\n",
        "    31: 'Wild animals crossing',\n",
        "    32: 'End of all speed and passing limits',\n",
        "    33: 'Turn right ahead',\n",
        "    34: 'Turn left ahead',\n",
        "    35: 'Ahead only',\n",
        "    36: 'Go straight or right',\n",
        "    37: 'Go straight or left',\n",
        "    38: 'Keep right',\n",
        "    39: 'Keep left',\n",
        "    40: 'Roundabout mandatory',\n",
        "    41: 'End of no passing',\n",
        "    42: 'End of no passing by vehicles over 3.5 metric tons'\n",
        "    }\n"
      ],
      "execution_count": 0,
      "outputs": []
    },
    {
      "cell_type": "code",
      "metadata": {
        "id": "HvjpqBcVlXEj",
        "colab_type": "code",
        "outputId": "ea31d66b-2366-4f67-abea-a34468448db1",
        "colab": {
          "base_uri": "https://localhost:8080/",
          "height": 34
        }
      },
      "source": [
        "classNames[trainy[100]]"
      ],
      "execution_count": 24,
      "outputs": [
        {
          "output_type": "execute_result",
          "data": {
            "text/plain": [
              "'End of no passing'"
            ]
          },
          "metadata": {
            "tags": []
          },
          "execution_count": 24
        }
      ]
    },
    {
      "cell_type": "code",
      "metadata": {
        "id": "nJoxeCImlGt2",
        "colab_type": "code",
        "colab": {}
      },
      "source": [
        "from sklearn.utils import shuffle"
      ],
      "execution_count": 0,
      "outputs": []
    },
    {
      "cell_type": "code",
      "metadata": {
        "id": "K3fDCGYD2SeD",
        "colab_type": "code",
        "colab": {}
      },
      "source": [
        "trainX, trainy = shuffle(trainX,trainy)"
      ],
      "execution_count": 0,
      "outputs": []
    },
    {
      "cell_type": "code",
      "metadata": {
        "id": "amydSOiv2SaV",
        "colab_type": "code",
        "outputId": "ac67e5a6-bd50-4434-f2dc-75528e2f7d5c",
        "colab": {
          "base_uri": "https://localhost:8080/",
          "height": 283
        }
      },
      "source": [
        "plt.imshow(trainX[100])"
      ],
      "execution_count": 27,
      "outputs": [
        {
          "output_type": "execute_result",
          "data": {
            "text/plain": [
              "<matplotlib.image.AxesImage at 0x7f9fb0153320>"
            ]
          },
          "metadata": {
            "tags": []
          },
          "execution_count": 27
        },
        {
          "output_type": "display_data",
          "data": {
            "image/png": "[encoded data removed]",
            "text/plain": [
              "<Figure size 432x288 with 1 Axes>"
            ]
          },
          "metadata": {
            "tags": [],
            "needs_background": "light"
          }
        }
      ]
    },
    {
      "cell_type": "code",
      "metadata": {
        "id": "2rF7CR1J2SYJ",
        "colab_type": "code",
        "outputId": "fa846b8a-2a3a-4538-88f5-5286812153b3",
        "colab": {
          "base_uri": "https://localhost:8080/",
          "height": 34
        }
      },
      "source": [
        "classNames[trainy[100]]"
      ],
      "execution_count": 28,
      "outputs": [
        {
          "output_type": "execute_result",
          "data": {
            "text/plain": [
              "'Speed limit (50km/h)'"
            ]
          },
          "metadata": {
            "tags": []
          },
          "execution_count": 28
        }
      ]
    },
    {
      "cell_type": "code",
      "metadata": {
        "id": "BDxuMqZc2STr",
        "colab_type": "code",
        "colab": {}
      },
      "source": [
        "validX = valid[\"features\"]\n",
        "validy = valid[\"labels\"]"
      ],
      "execution_count": 0,
      "outputs": []
    },
    {
      "cell_type": "code",
      "metadata": {
        "id": "4m9EDwrK2SP7",
        "colab_type": "code",
        "colab": {}
      },
      "source": [
        "testX = test[\"features\"]\n",
        "testy = test[\"labels\"]"
      ],
      "execution_count": 0,
      "outputs": []
    },
    {
      "cell_type": "code",
      "metadata": {
        "id": "kQao3SDP2SL6",
        "colab_type": "code",
        "colab": {}
      },
      "source": [
        "trainX = trainX.astype(\"float\")/255.0\n",
        "validX = validX.astype(\"float\")/255.0\n",
        "testX = testX.astype(\"float\")/255.0"
      ],
      "execution_count": 0,
      "outputs": []
    },
    {
      "cell_type": "code",
      "metadata": {
        "id": "sWm7KWtq2SG0",
        "colab_type": "code",
        "colab": {}
      },
      "source": [
        "from sklearn.preprocessing import LabelBinarizer"
      ],
      "execution_count": 0,
      "outputs": []
    },
    {
      "cell_type": "code",
      "metadata": {
        "id": "ytt5E42D2RHs",
        "colab_type": "code",
        "colab": {}
      },
      "source": [
        "lb = LabelBinarizer()"
      ],
      "execution_count": 0,
      "outputs": []
    },
    {
      "cell_type": "code",
      "metadata": {
        "id": "6QN8sgXu4Urk",
        "colab_type": "code",
        "colab": {}
      },
      "source": [
        "trainy = lb.fit_transform(trainy)"
      ],
      "execution_count": 0,
      "outputs": []
    },
    {
      "cell_type": "code",
      "metadata": {
        "id": "-EMQyMzC4UmN",
        "colab_type": "code",
        "colab": {}
      },
      "source": [
        "validy = lb.fit_transform(validy)"
      ],
      "execution_count": 0,
      "outputs": []
    },
    {
      "cell_type": "code",
      "metadata": {
        "id": "-2QEEoFI4Uju",
        "colab_type": "code",
        "outputId": "5bf97905-afd4-4815-cac3-d47a8370ee04",
        "colab": {
          "base_uri": "https://localhost:8080/",
          "height": 34
        }
      },
      "source": [
        "valid[\"labels\"][100]"
      ],
      "execution_count": 36,
      "outputs": [
        {
          "output_type": "execute_result",
          "data": {
            "text/plain": [
              "31"
            ]
          },
          "metadata": {
            "tags": []
          },
          "execution_count": 36
        }
      ]
    },
    {
      "cell_type": "code",
      "metadata": {
        "id": "smlCiq6n4Ugg",
        "colab_type": "code",
        "outputId": "34afb357-56cc-4621-8ff1-40c7aa327f77",
        "colab": {
          "base_uri": "https://localhost:8080/",
          "height": 50
        }
      },
      "source": [
        "validy[100]"
      ],
      "execution_count": 37,
      "outputs": [
        {
          "output_type": "execute_result",
          "data": {
            "text/plain": [
              "array([0, 0, 0, 0, 0, 0, 0, 0, 0, 0, 0, 0, 0, 0, 0, 0, 0, 0, 0, 0, 0, 0,\n",
              "       0, 0, 0, 0, 0, 0, 0, 0, 0, 1, 0, 0, 0, 0, 0, 0, 0, 0, 0, 0, 0])"
            ]
          },
          "metadata": {
            "tags": []
          },
          "execution_count": 37
        }
      ]
    },
    {
      "cell_type": "code",
      "metadata": {
        "id": "uBM8J_wp4UbB",
        "colab_type": "code",
        "colab": {}
      },
      "source": [
        "from tensorflow.keras.models import Sequential\n",
        "from tensorflow.keras.layers import BatchNormalization\n",
        "from tensorflow.keras.layers import AveragePooling2D\n",
        "from tensorflow.keras.layers import MaxPooling2D\n",
        "from tensorflow.keras.layers import Conv2D\n",
        "from tensorflow.keras.layers import Activation\n",
        "from tensorflow.keras.layers import Dropout\n",
        "from tensorflow.keras.layers import Flatten\n",
        "from tensorflow.keras.layers import Input\n",
        "from tensorflow.keras.layers import Dense\n",
        "from tensorflow.keras.layers import concatenate\n",
        "from tensorflow.keras.optimizers import  SGD\n",
        "from tensorflow.keras.preprocessing.image import ImageDataGenerator\n"
      ],
      "execution_count": 0,
      "outputs": []
    },
    {
      "cell_type": "code",
      "metadata": {
        "id": "EOy26NNg4UYk",
        "colab_type": "code",
        "colab": {}
      },
      "source": [
        "model = Sequential()"
      ],
      "execution_count": 0,
      "outputs": []
    },
    {
      "cell_type": "code",
      "metadata": {
        "id": "cBDKlqzc4UWR",
        "colab_type": "code",
        "colab": {}
      },
      "source": [
        "width = 32\n",
        "height = 32\n",
        "classes = 43"
      ],
      "execution_count": 0,
      "outputs": []
    },
    {
      "cell_type": "code",
      "metadata": {
        "id": "xImyHj-O4UTN",
        "colab_type": "code",
        "colab": {}
      },
      "source": [
        "shape = (width,height,3)"
      ],
      "execution_count": 0,
      "outputs": []
    },
    {
      "cell_type": "code",
      "metadata": {
        "id": "_tb8anOK4UR2",
        "colab_type": "code",
        "colab": {}
      },
      "source": [
        "model.add(Conv2D(32,(3,3), padding=\"same\", input_shape=shape))"
      ],
      "execution_count": 0,
      "outputs": []
    },
    {
      "cell_type": "code",
      "metadata": {
        "id": "CWmcp-hHUSwT",
        "colab_type": "code",
        "colab": {}
      },
      "source": [
        " model.add(BatchNormalization())"
      ],
      "execution_count": 0,
      "outputs": []
    },
    {
      "cell_type": "code",
      "metadata": {
        "id": "mYTWOghTUaiz",
        "colab_type": "code",
        "colab": {}
      },
      "source": [
        "model.add(Activation(\"relu\"))"
      ],
      "execution_count": 0,
      "outputs": []
    },
    {
      "cell_type": "code",
      "metadata": {
        "id": "ojixIGYXUabc",
        "colab_type": "code",
        "colab": {}
      },
      "source": [
        "model.add(Conv2D(32,(3,3), padding=\"same\"))"
      ],
      "execution_count": 0,
      "outputs": []
    },
    {
      "cell_type": "code",
      "metadata": {
        "id": "OqECW1cSUaYv",
        "colab_type": "code",
        "colab": {}
      },
      "source": [
        "model.add(BatchNormalization())"
      ],
      "execution_count": 0,
      "outputs": []
    },
    {
      "cell_type": "code",
      "metadata": {
        "id": "oO8VxeC4VAso",
        "colab_type": "code",
        "colab": {}
      },
      "source": [
        "model.add(Activation(\"relu\"))"
      ],
      "execution_count": 0,
      "outputs": []
    },
    {
      "cell_type": "code",
      "metadata": {
        "id": "KwrqD1jxVAjG",
        "colab_type": "code",
        "colab": {}
      },
      "source": [
        "model.add(MaxPooling2D(pool_size=(2,2)))"
      ],
      "execution_count": 0,
      "outputs": []
    },
    {
      "cell_type": "code",
      "metadata": {
        "id": "G4BV56oQVAgr",
        "colab_type": "code",
        "colab": {}
      },
      "source": [
        "model.add(Conv2D(64,(3,3), padding=\"same\"))"
      ],
      "execution_count": 0,
      "outputs": []
    },
    {
      "cell_type": "code",
      "metadata": {
        "id": "t6Ny9SPiVAeo",
        "colab_type": "code",
        "colab": {}
      },
      "source": [
        "model.add(BatchNormalization())"
      ],
      "execution_count": 0,
      "outputs": []
    },
    {
      "cell_type": "code",
      "metadata": {
        "id": "RWWGyCzqVAbO",
        "colab_type": "code",
        "colab": {}
      },
      "source": [
        "model.add(Activation(\"relu\"))"
      ],
      "execution_count": 0,
      "outputs": []
    },
    {
      "cell_type": "code",
      "metadata": {
        "id": "2R5a1_FSQ4FP",
        "colab_type": "code",
        "colab": {}
      },
      "source": [
        "model.add(Conv2D(64,(3,3), padding=\"same\"))"
      ],
      "execution_count": 0,
      "outputs": []
    },
    {
      "cell_type": "code",
      "metadata": {
        "id": "sbH5bWFXQ3od",
        "colab_type": "code",
        "colab": {}
      },
      "source": [
        "model.add(BatchNormalization())"
      ],
      "execution_count": 0,
      "outputs": []
    },
    {
      "cell_type": "code",
      "metadata": {
        "id": "m_lvoPSkQ3kh",
        "colab_type": "code",
        "colab": {}
      },
      "source": [
        "model.add(Activation(\"relu\"))"
      ],
      "execution_count": 0,
      "outputs": []
    },
    {
      "cell_type": "code",
      "metadata": {
        "id": "XfOnOuWtQ9D_",
        "colab_type": "code",
        "colab": {}
      },
      "source": [
        "model.add(Conv2D(64,(3,3), padding=\"same\"))"
      ],
      "execution_count": 0,
      "outputs": []
    },
    {
      "cell_type": "code",
      "metadata": {
        "id": "XOhy0HAjQ87i",
        "colab_type": "code",
        "colab": {}
      },
      "source": [
        "model.add(BatchNormalization())"
      ],
      "execution_count": 0,
      "outputs": []
    },
    {
      "cell_type": "code",
      "metadata": {
        "id": "brPh7eUEQ82c",
        "colab_type": "code",
        "colab": {}
      },
      "source": [
        "model.add(Activation(\"relu\"))"
      ],
      "execution_count": 0,
      "outputs": []
    },
    {
      "cell_type": "code",
      "metadata": {
        "id": "vivTA86iov5c",
        "colab_type": "code",
        "colab": {}
      },
      "source": [
        "model.add(Conv2D(64,(3,3), padding=\"same\"))"
      ],
      "execution_count": 0,
      "outputs": []
    },
    {
      "cell_type": "code",
      "metadata": {
        "id": "u-D-FvR1ovus",
        "colab_type": "code",
        "colab": {}
      },
      "source": [
        "model.add(BatchNormalization())"
      ],
      "execution_count": 0,
      "outputs": []
    },
    {
      "cell_type": "code",
      "metadata": {
        "id": "Dzsr5pUOovj2",
        "colab_type": "code",
        "colab": {}
      },
      "source": [
        "model.add(Activation(\"relu\"))"
      ],
      "execution_count": 0,
      "outputs": []
    },
    {
      "cell_type": "code",
      "metadata": {
        "id": "Pc1Y6zAkun2N",
        "colab_type": "code",
        "colab": {}
      },
      "source": [
        "model.add(Conv2D(64,(3,3), padding=\"same\"))"
      ],
      "execution_count": 0,
      "outputs": []
    },
    {
      "cell_type": "code",
      "metadata": {
        "id": "JBM7FBJ3uo1h",
        "colab_type": "code",
        "colab": {}
      },
      "source": [
        "model.add(BatchNormalization())"
      ],
      "execution_count": 0,
      "outputs": []
    },
    {
      "cell_type": "code",
      "metadata": {
        "id": "zVZYDuufuook",
        "colab_type": "code",
        "colab": {}
      },
      "source": [
        "model.add(Activation(\"relu\"))"
      ],
      "execution_count": 0,
      "outputs": []
    },
    {
      "cell_type": "code",
      "metadata": {
        "id": "pCAxz23qV5S4",
        "colab_type": "code",
        "colab": {}
      },
      "source": [
        "model.add(MaxPooling2D(pool_size=(2,2)))"
      ],
      "execution_count": 0,
      "outputs": []
    },
    {
      "cell_type": "code",
      "metadata": {
        "id": "h7qoUz02UaUh",
        "colab_type": "code",
        "colab": {}
      },
      "source": [
        "model.add(Flatten())"
      ],
      "execution_count": 0,
      "outputs": []
    },
    {
      "cell_type": "code",
      "metadata": {
        "id": "EzBC6ZZrV5Qi",
        "colab_type": "code",
        "colab": {}
      },
      "source": [
        "model.add(Dense(512))"
      ],
      "execution_count": 0,
      "outputs": []
    },
    {
      "cell_type": "code",
      "metadata": {
        "id": "GYWngsZUV5NE",
        "colab_type": "code",
        "colab": {}
      },
      "source": [
        "model.add(BatchNormalization())"
      ],
      "execution_count": 0,
      "outputs": []
    },
    {
      "cell_type": "code",
      "metadata": {
        "id": "HAxrKWwAW-Y7",
        "colab_type": "code",
        "colab": {}
      },
      "source": [
        "model.add(Activation(\"relu\"))"
      ],
      "execution_count": 0,
      "outputs": []
    },
    {
      "cell_type": "code",
      "metadata": {
        "id": "Fgj7IFnsW9cK",
        "colab_type": "code",
        "colab": {}
      },
      "source": [
        "model.add(Dense(classes))"
      ],
      "execution_count": 0,
      "outputs": []
    },
    {
      "cell_type": "code",
      "metadata": {
        "id": "VNHTgd-lW9YW",
        "colab_type": "code",
        "colab": {}
      },
      "source": [
        "model.add(Activation(\"softmax\"))"
      ],
      "execution_count": 0,
      "outputs": []
    },
    {
      "cell_type": "code",
      "metadata": {
        "id": "Q4O6jPCz4UN3",
        "colab_type": "code",
        "outputId": "4a72a5ee-e05f-433d-e8a2-a5de5e54b83a",
        "colab": {
          "base_uri": "https://localhost:8080/",
          "height": 1000
        }
      },
      "source": [
        "model.summary()"
      ],
      "execution_count": 71,
      "outputs": [
        {
          "output_type": "stream",
          "text": [
            "Model: \"sequential\"\n",
            "_________________________________________________________________\n",
            "Layer (type)                 Output Shape              Param #   \n",
            "=================================================================\n",
            "conv2d (Conv2D)              (None, 32, 32, 32)        896       \n",
            "_________________________________________________________________\n",
            "batch_normalization (BatchNo (None, 32, 32, 32)        128       \n",
            "_________________________________________________________________\n",
            "activation (Activation)      (None, 32, 32, 32)        0         \n",
            "_________________________________________________________________\n",
            "conv2d_1 (Conv2D)            (None, 32, 32, 32)        9248      \n",
            "_________________________________________________________________\n",
            "batch_normalization_1 (Batch (None, 32, 32, 32)        128       \n",
            "_________________________________________________________________\n",
            "activation_1 (Activation)    (None, 32, 32, 32)        0         \n",
            "_________________________________________________________________\n",
            "max_pooling2d (MaxPooling2D) (None, 16, 16, 32)        0         \n",
            "_________________________________________________________________\n",
            "conv2d_2 (Conv2D)            (None, 16, 16, 64)        18496     \n",
            "_________________________________________________________________\n",
            "batch_normalization_2 (Batch (None, 16, 16, 64)        256       \n",
            "_________________________________________________________________\n",
            "activation_2 (Activation)    (None, 16, 16, 64)        0         \n",
            "_________________________________________________________________\n",
            "conv2d_3 (Conv2D)            (None, 16, 16, 64)        36928     \n",
            "_________________________________________________________________\n",
            "batch_normalization_3 (Batch (None, 16, 16, 64)        256       \n",
            "_________________________________________________________________\n",
            "activation_3 (Activation)    (None, 16, 16, 64)        0         \n",
            "_________________________________________________________________\n",
            "conv2d_4 (Conv2D)            (None, 16, 16, 64)        36928     \n",
            "_________________________________________________________________\n",
            "batch_normalization_4 (Batch (None, 16, 16, 64)        256       \n",
            "_________________________________________________________________\n",
            "activation_4 (Activation)    (None, 16, 16, 64)        0         \n",
            "_________________________________________________________________\n",
            "conv2d_5 (Conv2D)            (None, 16, 16, 64)        36928     \n",
            "_________________________________________________________________\n",
            "batch_normalization_5 (Batch (None, 16, 16, 64)        256       \n",
            "_________________________________________________________________\n",
            "activation_5 (Activation)    (None, 16, 16, 64)        0         \n",
            "_________________________________________________________________\n",
            "conv2d_6 (Conv2D)            (None, 16, 16, 64)        36928     \n",
            "_________________________________________________________________\n",
            "batch_normalization_6 (Batch (None, 16, 16, 64)        256       \n",
            "_________________________________________________________________\n",
            "activation_6 (Activation)    (None, 16, 16, 64)        0         \n",
            "_________________________________________________________________\n",
            "max_pooling2d_1 (MaxPooling2 (None, 8, 8, 64)          0         \n",
            "_________________________________________________________________\n",
            "flatten (Flatten)            (None, 4096)              0         \n",
            "_________________________________________________________________\n",
            "dense (Dense)                (None, 512)               2097664   \n",
            "_________________________________________________________________\n",
            "batch_normalization_7 (Batch (None, 512)               2048      \n",
            "_________________________________________________________________\n",
            "activation_7 (Activation)    (None, 512)               0         \n",
            "_________________________________________________________________\n",
            "dense_1 (Dense)              (None, 43)                22059     \n",
            "_________________________________________________________________\n",
            "activation_8 (Activation)    (None, 43)                0         \n",
            "=================================================================\n",
            "Total params: 2,299,659\n",
            "Trainable params: 2,297,867\n",
            "Non-trainable params: 1,792\n",
            "_________________________________________________________________\n"
          ],
          "name": "stdout"
        }
      ]
    },
    {
      "cell_type": "code",
      "metadata": {
        "id": "L6D76C3E4ULI",
        "colab_type": "code",
        "colab": {}
      },
      "source": [
        "aug = ImageDataGenerator(rotation_range=0.18, zoom_range=0.15,width_shift_range=0.2, height_shift_range=0.2, horizontal_flip=True)"
      ],
      "execution_count": 0,
      "outputs": []
    },
    {
      "cell_type": "code",
      "metadata": {
        "id": "FE223dxT4UH1",
        "colab_type": "code",
        "colab": {}
      },
      "source": [
        "learning_rate = 0.01"
      ],
      "execution_count": 0,
      "outputs": []
    },
    {
      "cell_type": "code",
      "metadata": {
        "id": "yROfhYZg4UEi",
        "colab_type": "code",
        "colab": {}
      },
      "source": [
        "epochs = 15\n",
        "batch_size = 64"
      ],
      "execution_count": 0,
      "outputs": []
    },
    {
      "cell_type": "code",
      "metadata": {
        "id": "p7J7Q2x9Yo6v",
        "colab_type": "code",
        "colab": {}
      },
      "source": [
        "opt = SGD(learning_rate = learning_rate, momentum = 0.9)"
      ],
      "execution_count": 0,
      "outputs": []
    },
    {
      "cell_type": "code",
      "metadata": {
        "id": "j9PuDnamYo4q",
        "colab_type": "code",
        "colab": {}
      },
      "source": [
        "model.compile(optimizer=opt, loss=\"categorical_crossentropy\", metrics=[\"accuracy\"])"
      ],
      "execution_count": 0,
      "outputs": []
    },
    {
      "cell_type": "code",
      "metadata": {
        "id": "gIRRt4y1Yo2Q",
        "colab_type": "code",
        "outputId": "1e471250-9487-4021-9d95-31818c68fe8c",
        "colab": {
          "base_uri": "https://localhost:8080/",
          "height": 34
        }
      },
      "source": [
        "print(\"start trainning\")"
      ],
      "execution_count": 77,
      "outputs": [
        {
          "output_type": "stream",
          "text": [
            "start trainning\n"
          ],
          "name": "stdout"
        }
      ]
    },
    {
      "cell_type": "code",
      "metadata": {
        "id": "AhuJWxGbYoze",
        "colab_type": "code",
        "outputId": "dcbcf762-32b1-44e3-8b4b-f561f0172eac",
        "colab": {
          "base_uri": "https://localhost:8080/",
          "height": 571
        }
      },
      "source": [
        "H = model.fit_generator(aug.flow(trainX,trainy,batch_size=batch_size), validation_data=(validX,validy),steps_per_epoch=trainX.shape[0]//batch_size, epochs=epochs,verbose=1)"
      ],
      "execution_count": 78,
      "outputs": [
        {
          "output_type": "stream",
          "text": [
            "WARNING:tensorflow:From <ipython-input-78-08beeffc0424>:1: Model.fit_generator (from tensorflow.python.keras.engine.training) is deprecated and will be removed in a future version.\n",
            "Instructions for updating:\n",
            "Please use Model.fit, which supports generators.\n",
            "Epoch 1/15\n",
            "543/543 [==============================] - 17s 32ms/step - loss: 2.1188 - accuracy: 0.3884 - val_loss: 1.3458 - val_accuracy: 0.5760\n",
            "Epoch 2/15\n",
            "543/543 [==============================] - 17s 32ms/step - loss: 0.6049 - accuracy: 0.8066 - val_loss: 0.6121 - val_accuracy: 0.8000\n",
            "Epoch 3/15\n",
            "543/543 [==============================] - 17s 31ms/step - loss: 0.2498 - accuracy: 0.9218 - val_loss: 0.4272 - val_accuracy: 0.8454\n",
            "Epoch 4/15\n",
            "543/543 [==============================] - 17s 31ms/step - loss: 0.1419 - accuracy: 0.9571 - val_loss: 0.3776 - val_accuracy: 0.8798\n",
            "Epoch 5/15\n",
            "543/543 [==============================] - 17s 31ms/step - loss: 0.1001 - accuracy: 0.9687 - val_loss: 0.2735 - val_accuracy: 0.9073\n",
            "Epoch 6/15\n",
            "543/543 [==============================] - 17s 31ms/step - loss: 0.0734 - accuracy: 0.9767 - val_loss: 0.3128 - val_accuracy: 0.8980\n",
            "Epoch 7/15\n",
            "543/543 [==============================] - 17s 32ms/step - loss: 0.0640 - accuracy: 0.9799 - val_loss: 0.3571 - val_accuracy: 0.9077\n",
            "Epoch 8/15\n",
            "543/543 [==============================] - 17s 31ms/step - loss: 0.0530 - accuracy: 0.9838 - val_loss: 0.3973 - val_accuracy: 0.8889\n",
            "Epoch 9/15\n",
            "543/543 [==============================] - 17s 31ms/step - loss: 0.0414 - accuracy: 0.9870 - val_loss: 0.3380 - val_accuracy: 0.9107\n",
            "Epoch 10/15\n",
            "543/543 [==============================] - 17s 31ms/step - loss: 0.0358 - accuracy: 0.9888 - val_loss: 0.3056 - val_accuracy: 0.9283\n",
            "Epoch 11/15\n",
            "543/543 [==============================] - 17s 31ms/step - loss: 0.0319 - accuracy: 0.9902 - val_loss: 0.3089 - val_accuracy: 0.9152\n",
            "Epoch 12/15\n",
            "543/543 [==============================] - 17s 31ms/step - loss: 0.0273 - accuracy: 0.9923 - val_loss: 0.2821 - val_accuracy: 0.9125\n",
            "Epoch 13/15\n",
            "543/543 [==============================] - 17s 31ms/step - loss: 0.0272 - accuracy: 0.9917 - val_loss: 0.3844 - val_accuracy: 0.9206\n",
            "Epoch 14/15\n",
            "543/543 [==============================] - 17s 31ms/step - loss: 0.0263 - accuracy: 0.9923 - val_loss: 0.3850 - val_accuracy: 0.9014\n",
            "Epoch 15/15\n",
            "543/543 [==============================] - 17s 31ms/step - loss: 0.0214 - accuracy: 0.9935 - val_loss: 0.2934 - val_accuracy: 0.9295\n"
          ],
          "name": "stdout"
        }
      ]
    },
    {
      "cell_type": "code",
      "metadata": {
        "id": "YQZjfSIlxdRQ",
        "colab_type": "code",
        "outputId": "91bd287a-ef56-4cb9-a02e-44f85a3ae14b",
        "colab": {
          "base_uri": "https://localhost:8080/",
          "height": 269
        }
      },
      "source": [
        "H.history['accuracy']"
      ],
      "execution_count": 79,
      "outputs": [
        {
          "output_type": "execute_result",
          "data": {
            "text/plain": [
              "[0.3883805274963379,\n",
              " 0.8065927624702454,\n",
              " 0.9217791557312012,\n",
              " 0.9571037888526917,\n",
              " 0.9686771035194397,\n",
              " 0.9767093658447266,\n",
              " 0.9799050092697144,\n",
              " 0.9838491678237915,\n",
              " 0.9870447516441345,\n",
              " 0.9887721538543701,\n",
              " 0.9901828169822693,\n",
              " 0.9922844171524048,\n",
              " 0.9917086362838745,\n",
              " 0.9923419952392578,\n",
              " 0.9934648275375366]"
            ]
          },
          "metadata": {
            "tags": []
          },
          "execution_count": 79
        }
      ]
    },
    {
      "cell_type": "code",
      "metadata": {
        "id": "PGiDcM8LYoxv",
        "colab_type": "code",
        "colab": {}
      },
      "source": [
        "model.save(\"sanghandsome.h5\")"
      ],
      "execution_count": 0,
      "outputs": []
    },
    {
      "cell_type": "code",
      "metadata": {
        "id": "B5cWaVRPab33",
        "colab_type": "code",
        "colab": {}
      },
      "source": [
        "save_model = tf.keras.models.load_model(\"sanghandsome.h5\")"
      ],
      "execution_count": 0,
      "outputs": []
    },
    {
      "cell_type": "code",
      "metadata": {
        "id": "IADgSfIrYovO",
        "colab_type": "code",
        "colab": {}
      },
      "source": [
        "reult = save_model.predict(testX[70:71])"
      ],
      "execution_count": 0,
      "outputs": []
    },
    {
      "cell_type": "code",
      "metadata": {
        "id": "G2ShwMAgYosQ",
        "colab_type": "code",
        "outputId": "7df612d4-5a52-4e83-d9d7-0511b110fd64",
        "colab": {
          "base_uri": "https://localhost:8080/",
          "height": 202
        }
      },
      "source": [
        "reult"
      ],
      "execution_count": 83,
      "outputs": [
        {
          "output_type": "execute_result",
          "data": {
            "text/plain": [
              "array([[7.69721578e-11, 6.34684579e-13, 1.48623904e-08, 1.10211264e-10,\n",
              "        1.82926358e-15, 2.06875159e-11, 3.76859238e-11, 1.61841612e-12,\n",
              "        3.63035814e-14, 5.07854609e-13, 2.90047653e-09, 9.99825776e-01,\n",
              "        6.23360877e-11, 2.59826355e-10, 1.35296108e-10, 5.29405841e-15,\n",
              "        1.86605831e-07, 1.03437237e-09, 4.79466966e-10, 5.83484052e-07,\n",
              "        2.45769349e-10, 1.48210063e-04, 8.68957545e-11, 9.47866496e-08,\n",
              "        4.42554854e-10, 4.80525806e-08, 4.15092904e-10, 2.43735540e-05,\n",
              "        6.85928327e-08, 1.54805124e-09, 6.43598980e-07, 1.82389004e-09,\n",
              "        3.36372558e-13, 2.29360281e-10, 4.34205137e-11, 4.36980938e-11,\n",
              "        2.65028832e-10, 1.60144314e-10, 2.00006851e-11, 8.48141202e-09,\n",
              "        1.22699699e-08, 1.65232186e-11, 4.05996747e-09]], dtype=float32)"
            ]
          },
          "metadata": {
            "tags": []
          },
          "execution_count": 83
        }
      ]
    },
    {
      "cell_type": "code",
      "metadata": {
        "id": "Ch2O4t0c4UCF",
        "colab_type": "code",
        "colab": {}
      },
      "source": [
        " import numpy as np"
      ],
      "execution_count": 0,
      "outputs": []
    },
    {
      "cell_type": "code",
      "metadata": {
        "id": "2nADQg8dbIYl",
        "colab_type": "code",
        "colab": {}
      },
      "source": [
        "final = np.argmax(reult)"
      ],
      "execution_count": 0,
      "outputs": []
    },
    {
      "cell_type": "code",
      "metadata": {
        "id": "UsUuEDR5bL1H",
        "colab_type": "code",
        "colab": {}
      },
      "source": [
        "final = classNames[final]"
      ],
      "execution_count": 0,
      "outputs": []
    },
    {
      "cell_type": "code",
      "metadata": {
        "id": "bRVgMPvLbL6o",
        "colab_type": "code",
        "outputId": "2796dacf-825b-40b5-e7db-a24e20ec38fc",
        "colab": {
          "base_uri": "https://localhost:8080/",
          "height": 34
        }
      },
      "source": [
        "final"
      ],
      "execution_count": 87,
      "outputs": [
        {
          "output_type": "execute_result",
          "data": {
            "text/plain": [
              "'Right-of-way at the next intersection'"
            ]
          },
          "metadata": {
            "tags": []
          },
          "execution_count": 87
        }
      ]
    },
    {
      "cell_type": "code",
      "metadata": {
        "id": "O7mOZW0BbL4J",
        "colab_type": "code",
        "outputId": "417e456d-10ec-4867-d01c-e77256bae26b",
        "colab": {
          "base_uri": "https://localhost:8080/",
          "height": 283
        }
      },
      "source": [
        "plt.imshow(test[\"features\"][70])"
      ],
      "execution_count": 88,
      "outputs": [
        {
          "output_type": "execute_result",
          "data": {
            "text/plain": [
              "<matplotlib.image.AxesImage at 0x7f9f3b690400>"
            ]
          },
          "metadata": {
            "tags": []
          },
          "execution_count": 88
        },
        {
          "output_type": "display_data",
          "data": {
            "image/png": "[encoded data removed]",
            "text/plain": [
              "<Figure size 432x288 with 1 Axes>"
            ]
          },
          "metadata": {
            "tags": [],
            "needs_background": "light"
          }
        }
      ]
    }
  ]
}