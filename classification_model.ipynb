{
  "nbformat": 4,
  "nbformat_minor": 0,
  "metadata": {
    "colab": {
      "name": "classification_model.ipynb",
      "provenance": [],
      "mount_file_id": "14JbecthYcp-kfuupvCxk1y307hU2kZo9",
      "authorship_tag": "ABX9TyPMr+g6Mb4Bej7kJeyAdY7D",
      "include_colab_link": true
    },
    "kernelspec": {
      "name": "python3",
      "display_name": "Python 3"
    },
    "accelerator": "GPU"
  },
  "cells": [
    {
      "cell_type": "markdown",
      "metadata": {
        "id": "view-in-github",
        "colab_type": "text"
      },
      "source": [
        "<a href=\"https://colab.research.google.com/github/DinhHuySang/Traffic-sign-classification/blob/master/classification_model.ipynb\" target=\"_parent\"><img src=\"https://colab.research.google.com/assets/colab-badge.svg\" alt=\"Open In Colab\"/></a>"
      ]
    },
    {
      "cell_type": "code",
      "metadata": {
        "id": "WhYPe6KBYuZS",
        "colab_type": "code",
        "outputId": "d0713618-9698-46b9-870c-4b14686ba9dc",
        "colab": {
          "base_uri": "https://localhost:8080/",
          "height": 34
        }
      },
      "source": [
        "import tensorflow as tf\n",
        "tf.__version__"
      ],
      "execution_count": 1,
      "outputs": [
        {
          "output_type": "execute_result",
          "data": {
            "text/plain": [
              "'2.2.0'"
            ]
          },
          "metadata": {
            "tags": []
          },
          "execution_count": 1
        }
      ]
    },
    {
      "cell_type": "code",
      "metadata": {
        "id": "WG2LgtMmdlfE",
        "colab_type": "code",
        "outputId": "b5f8d505-46e8-455f-87c2-fe383d544560",
        "colab": {
          "base_uri": "https://localhost:8080/",
          "height": 34
        }
      },
      "source": [
        "from google.colab import drive\n",
        "drive.mount(\"/content/drive\")"
      ],
      "execution_count": 2,
      "outputs": [
        {
          "output_type": "stream",
          "text": [
            "Drive already mounted at /content/drive; to attempt to forcibly remount, call drive.mount(\"/content/drive\", force_remount=True).\n"
          ],
          "name": "stdout"
        }
      ]
    },
    {
      "cell_type": "code",
      "metadata": {
        "id": "IYNB3MIkfc1T",
        "colab_type": "code",
        "outputId": "c6d9353a-efe0-4101-c67a-7179f67ca29e",
        "colab": {
          "base_uri": "https://localhost:8080/",
          "height": 34
        }
      },
      "source": [
        "cd /content/drive/Shared drives/Drive của Sáng/Traffic_sign_classification_from_scratch"
      ],
      "execution_count": 3,
      "outputs": [
        {
          "output_type": "stream",
          "text": [
            "/content/drive/Shared drives/Drive của Sáng/Traffic_sign_classification_from_scratch\n"
          ],
          "name": "stdout"
        }
      ]
    },
    {
      "cell_type": "code",
      "metadata": {
        "id": "oCWvmczlfs2M",
        "colab_type": "code",
        "outputId": "819e0d45-82d7-4846-c0b7-f94b0967b376",
        "colab": {
          "base_uri": "https://localhost:8080/",
          "height": 51
        }
      },
      "source": [
        "ls\n"
      ],
      "execution_count": 4,
      "outputs": [
        {
          "output_type": "stream",
          "text": [
            "classification_model.ipynb  sanghandsome.h5  traffic-signs-data.zip  valid.p\n",
            "README.md                   test.p           train.p\n"
          ],
          "name": "stdout"
        }
      ]
    },
    {
      "cell_type": "code",
      "metadata": {
        "id": "fmHHFkmgf_Ww",
        "colab_type": "code",
        "colab": {}
      },
      "source": [
        "#link_data_set = \"https://d17h27t6h515a5.cloudfront.net/topher/2017/February/5898cd6f_traffic-signs-data/traffic-signs-data.zip\"\n"
      ],
      "execution_count": 0,
      "outputs": []
    },
    {
      "cell_type": "code",
      "metadata": {
        "id": "pJXKNCjncvVi",
        "colab_type": "code",
        "outputId": "9ceb63f0-b3e6-4972-ef2e-0f76834b3844",
        "colab": {
          "base_uri": "https://localhost:8080/",
          "height": 34
        }
      },
      "source": [
        "!pip install wget"
      ],
      "execution_count": 6,
      "outputs": [
        {
          "output_type": "stream",
          "text": [
            "Requirement already satisfied: wget in /usr/local/lib/python3.6/dist-packages (3.2)\n"
          ],
          "name": "stdout"
        }
      ]
    },
    {
      "cell_type": "code",
      "metadata": {
        "id": "f1o5rAclc57T",
        "colab_type": "code",
        "colab": {}
      },
      "source": [
        "import wget"
      ],
      "execution_count": 0,
      "outputs": []
    },
    {
      "cell_type": "code",
      "metadata": {
        "id": "mDcRg-mNdB9B",
        "colab_type": "code",
        "colab": {}
      },
      "source": [
        "#wget.download(link_data_set)"
      ],
      "execution_count": 0,
      "outputs": []
    },
    {
      "cell_type": "code",
      "metadata": {
        "id": "jDXfU4qZdgvV",
        "colab_type": "code",
        "colab": {}
      },
      "source": [
        "data = \"./\""
      ],
      "execution_count": 0,
      "outputs": []
    },
    {
      "cell_type": "code",
      "metadata": {
        "id": "DwT_JFiKdxXU",
        "colab_type": "code",
        "colab": {}
      },
      "source": [
        "#!unzip -q traffic-signs-data.zip -d $data\n"
      ],
      "execution_count": 0,
      "outputs": []
    },
    {
      "cell_type": "code",
      "metadata": {
        "id": "OPpU1FmHd58L",
        "colab_type": "code",
        "colab": {}
      },
      "source": [
        "train_link = data+\"train.p\"\n",
        "valid_link = data+\"valid.p\"\n",
        "test_link  = data+\"test.p\"\n"
      ],
      "execution_count": 0,
      "outputs": []
    },
    {
      "cell_type": "code",
      "metadata": {
        "id": "gr5HmZzhftLr",
        "colab_type": "code",
        "colab": {}
      },
      "source": [
        "import pickle"
      ],
      "execution_count": 0,
      "outputs": []
    },
    {
      "cell_type": "code",
      "metadata": {
        "id": "j3pi2SGBfyOf",
        "colab_type": "code",
        "colab": {}
      },
      "source": [
        "with open(train_link, mode=\"rb\") as tr:\n",
        "  train = pickle.load(tr) "
      ],
      "execution_count": 0,
      "outputs": []
    },
    {
      "cell_type": "code",
      "metadata": {
        "id": "C--hQCUIgTRa",
        "colab_type": "code",
        "colab": {}
      },
      "source": [
        "with open(valid_link, mode=\"rb\") as va:\n",
        "  valid = pickle.load(va)"
      ],
      "execution_count": 0,
      "outputs": []
    },
    {
      "cell_type": "code",
      "metadata": {
        "id": "VDK2ixbRgh13",
        "colab_type": "code",
        "colab": {}
      },
      "source": [
        "with open(test_link, mode=\"rb\") as te:\n",
        "  test = pickle.load(te)"
      ],
      "execution_count": 0,
      "outputs": []
    },
    {
      "cell_type": "code",
      "metadata": {
        "id": "owwNRkr2gy1b",
        "colab_type": "code",
        "colab": {}
      },
      "source": [
        "trainX = train[\"features\"]\n",
        "trainy = train[\"labels\"]"
      ],
      "execution_count": 0,
      "outputs": []
    },
    {
      "cell_type": "code",
      "metadata": {
        "id": "lJq7B3EChnHd",
        "colab_type": "code",
        "outputId": "3c070bf2-d62d-497f-8d06-0e04641c5139",
        "colab": {
          "base_uri": "https://localhost:8080/",
          "height": 34
        }
      },
      "source": [
        "trainX.shape"
      ],
      "execution_count": 17,
      "outputs": [
        {
          "output_type": "execute_result",
          "data": {
            "text/plain": [
              "(34799, 32, 32, 3)"
            ]
          },
          "metadata": {
            "tags": []
          },
          "execution_count": 17
        }
      ]
    },
    {
      "cell_type": "code",
      "metadata": {
        "id": "BsbYtNtAhxLr",
        "colab_type": "code",
        "outputId": "fbe8420e-5e79-409b-b12d-cf6b45ab72cf",
        "colab": {
          "base_uri": "https://localhost:8080/",
          "height": 34
        }
      },
      "source": [
        "trainy.shape"
      ],
      "execution_count": 18,
      "outputs": [
        {
          "output_type": "execute_result",
          "data": {
            "text/plain": [
              "(34799,)"
            ]
          },
          "metadata": {
            "tags": []
          },
          "execution_count": 18
        }
      ]
    },
    {
      "cell_type": "code",
      "metadata": {
        "id": "oE3gWIDsib6n",
        "colab_type": "code",
        "outputId": "bf966623-a621-4643-b615-c4ad73532ef4",
        "colab": {
          "base_uri": "https://localhost:8080/",
          "height": 850
        }
      },
      "source": [
        "trainX[100]"
      ],
      "execution_count": 19,
      "outputs": [
        {
          "output_type": "execute_result",
          "data": {
            "text/plain": [
              "array([[[197, 166, 123],\n",
              "        [189, 154,  99],\n",
              "        [198, 160, 102],\n",
              "        ...,\n",
              "        [255, 255, 255],\n",
              "        [255, 255, 255],\n",
              "        [255, 255, 255]],\n",
              "\n",
              "       [[170, 139,  97],\n",
              "        [177, 144,  88],\n",
              "        [185, 150,  94],\n",
              "        ...,\n",
              "        [255, 255, 255],\n",
              "        [255, 255, 255],\n",
              "        [255, 255, 255]],\n",
              "\n",
              "       [[165, 135,  96],\n",
              "        [163, 132,  85],\n",
              "        [169, 138,  88],\n",
              "        ...,\n",
              "        [255, 255, 255],\n",
              "        [255, 255, 255],\n",
              "        [255, 255, 255]],\n",
              "\n",
              "       ...,\n",
              "\n",
              "       [[119, 114,  79],\n",
              "        [122, 115,  77],\n",
              "        [131, 121,  86],\n",
              "        ...,\n",
              "        [ 84,  97, 105],\n",
              "        [ 73,  85,  90],\n",
              "        [ 71,  71,  73]],\n",
              "\n",
              "       [[135, 116,  77],\n",
              "        [131, 116,  73],\n",
              "        [129, 117,  78],\n",
              "        ...,\n",
              "        [ 43,  53,  57],\n",
              "        [ 39,  52,  56],\n",
              "        [ 75,  77,  80]],\n",
              "\n",
              "       [[154, 118,  80],\n",
              "        [149, 124,  84],\n",
              "        [136, 122,  84],\n",
              "        ...,\n",
              "        [ 41,  51,  41],\n",
              "        [ 51,  68,  61],\n",
              "        [ 79,  86,  82]]], dtype=uint8)"
            ]
          },
          "metadata": {
            "tags": []
          },
          "execution_count": 19
        }
      ]
    },
    {
      "cell_type": "code",
      "metadata": {
        "id": "mTx_aeaAiizW",
        "colab_type": "code",
        "colab": {}
      },
      "source": [
        "import matplotlib.pyplot as plt\n"
      ],
      "execution_count": 0,
      "outputs": []
    },
    {
      "cell_type": "code",
      "metadata": {
        "id": "H7gyrY7ZipKG",
        "colab_type": "code",
        "outputId": "e52ac414-570e-4f2a-a092-e52daf2c485c",
        "colab": {
          "base_uri": "https://localhost:8080/",
          "height": 283
        }
      },
      "source": [
        "plt.imshow(trainX[100])"
      ],
      "execution_count": 21,
      "outputs": [
        {
          "output_type": "execute_result",
          "data": {
            "text/plain": [
              "<matplotlib.image.AxesImage at 0x7f8fa5e4c828>"
            ]
          },
          "metadata": {
            "tags": []
          },
          "execution_count": 21
        },
        {
          "output_type": "display_data",
          "data": {
            "image/png": "[encoded data removed]",
            "text/plain": [
              "<Figure size 432x288 with 1 Axes>"
            ]
          },
          "metadata": {
            "tags": [],
            "needs_background": "light"
          }
        }
      ]
    },
    {
      "cell_type": "code",
      "metadata": {
        "id": "LI3C4bYqjfYN",
        "colab_type": "code",
        "outputId": "0f21eefd-edb7-4033-993d-2b59574ad79c",
        "colab": {
          "base_uri": "https://localhost:8080/",
          "height": 34
        }
      },
      "source": [
        "trainy[100]"
      ],
      "execution_count": 22,
      "outputs": [
        {
          "output_type": "execute_result",
          "data": {
            "text/plain": [
              "41"
            ]
          },
          "metadata": {
            "tags": []
          },
          "execution_count": 22
        }
      ]
    },
    {
      "cell_type": "code",
      "metadata": {
        "id": "1Su4MdAQizaW",
        "colab_type": "code",
        "colab": {}
      },
      "source": [
        "classNames = {\n",
        "    0: 'Speed limit (20km/h)',\n",
        "    1: 'Speed limit (30km/h)',\n",
        "    2: 'Speed limit (50km/h)',\n",
        "    3: 'Speed limit (60km/h)',\n",
        "    4: 'Speed limit (70km/h)',\n",
        "    5: 'Speed limit (80km/h)',\n",
        "    6: 'End of speed limit (80km/h)',\n",
        "    7: 'Speed limit (100km/h)',\n",
        "    8: 'Speed limit (120km/h)',\n",
        "    9: 'No passing',\n",
        "    10: 'No passing for vehicles over 3.5 metric tons',\n",
        "    11: 'Right-of-way at the next intersection',\n",
        "    12: 'Priority road',\n",
        "    13: 'Yield',\n",
        "    14: 'Stop',\n",
        "    15: 'No vehicles',\n",
        "    16: 'Vehicles over 3.5 metric tons prohibited',\n",
        "    17: 'No entry',\n",
        "    18: 'General caution',\n",
        "    19: 'Dangerous curve to the left',\n",
        "    20: 'Dangerous curve to the right',\n",
        "    21: 'Double curve',\n",
        "    22: 'Bumpy road',\n",
        "    23: 'Slippery road',\n",
        "    24: 'Road narrows on the right',\n",
        "    25: 'Road work',\n",
        "    26: 'Traffic signals',\n",
        "    27: 'Pedestrians',\n",
        "    28: 'Children crossing',\n",
        "    29: 'Bicycles crossing',\n",
        "    30: 'Beware of ice/snow',\n",
        "    31: 'Wild animals crossing',\n",
        "    32: 'End of all speed and passing limits',\n",
        "    33: 'Turn right ahead',\n",
        "    34: 'Turn left ahead',\n",
        "    35: 'Ahead only',\n",
        "    36: 'Go straight or right',\n",
        "    37: 'Go straight or left',\n",
        "    38: 'Keep right',\n",
        "    39: 'Keep left',\n",
        "    40: 'Roundabout mandatory',\n",
        "    41: 'End of no passing',\n",
        "    42: 'End of no passing by vehicles over 3.5 metric tons'\n",
        "    }\n"
      ],
      "execution_count": 0,
      "outputs": []
    },
    {
      "cell_type": "code",
      "metadata": {
        "id": "HvjpqBcVlXEj",
        "colab_type": "code",
        "outputId": "4fa4f685-02b9-4be0-9120-e1b84df8aa8d",
        "colab": {
          "base_uri": "https://localhost:8080/",
          "height": 34
        }
      },
      "source": [
        "classNames[trainy[100]]"
      ],
      "execution_count": 24,
      "outputs": [
        {
          "output_type": "execute_result",
          "data": {
            "text/plain": [
              "'End of no passing'"
            ]
          },
          "metadata": {
            "tags": []
          },
          "execution_count": 24
        }
      ]
    },
    {
      "cell_type": "code",
      "metadata": {
        "id": "nJoxeCImlGt2",
        "colab_type": "code",
        "colab": {}
      },
      "source": [
        "from sklearn.utils import shuffle"
      ],
      "execution_count": 0,
      "outputs": []
    },
    {
      "cell_type": "code",
      "metadata": {
        "id": "K3fDCGYD2SeD",
        "colab_type": "code",
        "colab": {}
      },
      "source": [
        "trainX, trainy = shuffle(trainX,trainy)"
      ],
      "execution_count": 0,
      "outputs": []
    },
    {
      "cell_type": "code",
      "metadata": {
        "id": "amydSOiv2SaV",
        "colab_type": "code",
        "outputId": "d86a6615-3159-4759-ce93-8281042c5da4",
        "colab": {
          "base_uri": "https://localhost:8080/",
          "height": 283
        }
      },
      "source": [
        "plt.imshow(trainX[100])"
      ],
      "execution_count": 27,
      "outputs": [
        {
          "output_type": "execute_result",
          "data": {
            "text/plain": [
              "<matplotlib.image.AxesImage at 0x7f8f9ea53320>"
            ]
          },
          "metadata": {
            "tags": []
          },
          "execution_count": 27
        },
        {
          "output_type": "display_data",
          "data": {
            "image/png": "[encoded data removed]",
            "text/plain": [
              "<Figure size 432x288 with 1 Axes>"
            ]
          },
          "metadata": {
            "tags": [],
            "needs_background": "light"
          }
        }
      ]
    },
    {
      "cell_type": "code",
      "metadata": {
        "id": "2rF7CR1J2SYJ",
        "colab_type": "code",
        "outputId": "c038bb72-e93d-4c2b-9533-655054f92b72",
        "colab": {
          "base_uri": "https://localhost:8080/",
          "height": 34
        }
      },
      "source": [
        "classNames[trainy[100]]"
      ],
      "execution_count": 28,
      "outputs": [
        {
          "output_type": "execute_result",
          "data": {
            "text/plain": [
              "'Go straight or right'"
            ]
          },
          "metadata": {
            "tags": []
          },
          "execution_count": 28
        }
      ]
    },
    {
      "cell_type": "code",
      "metadata": {
        "id": "BDxuMqZc2STr",
        "colab_type": "code",
        "colab": {}
      },
      "source": [
        "validX = valid[\"features\"]\n",
        "validy = valid[\"labels\"]"
      ],
      "execution_count": 0,
      "outputs": []
    },
    {
      "cell_type": "code",
      "metadata": {
        "id": "4m9EDwrK2SP7",
        "colab_type": "code",
        "colab": {}
      },
      "source": [
        "testX = test[\"features\"]\n",
        "testy = test[\"labels\"]"
      ],
      "execution_count": 0,
      "outputs": []
    },
    {
      "cell_type": "code",
      "metadata": {
        "id": "kQao3SDP2SL6",
        "colab_type": "code",
        "colab": {}
      },
      "source": [
        "trainX = trainX.astype(\"float\")/255.0\n",
        "validX = validX.astype(\"float\")/255.0\n",
        "testX = testX.astype(\"float\")/255.0"
      ],
      "execution_count": 0,
      "outputs": []
    },
    {
      "cell_type": "code",
      "metadata": {
        "id": "sWm7KWtq2SG0",
        "colab_type": "code",
        "colab": {}
      },
      "source": [
        "from sklearn.preprocessing import LabelBinarizer"
      ],
      "execution_count": 0,
      "outputs": []
    },
    {
      "cell_type": "code",
      "metadata": {
        "id": "ytt5E42D2RHs",
        "colab_type": "code",
        "colab": {}
      },
      "source": [
        "lb = LabelBinarizer()"
      ],
      "execution_count": 0,
      "outputs": []
    },
    {
      "cell_type": "code",
      "metadata": {
        "id": "6QN8sgXu4Urk",
        "colab_type": "code",
        "colab": {}
      },
      "source": [
        "trainy = lb.fit_transform(trainy)"
      ],
      "execution_count": 0,
      "outputs": []
    },
    {
      "cell_type": "code",
      "metadata": {
        "id": "-EMQyMzC4UmN",
        "colab_type": "code",
        "colab": {}
      },
      "source": [
        "validy = lb.fit_transform(validy)"
      ],
      "execution_count": 0,
      "outputs": []
    },
    {
      "cell_type": "code",
      "metadata": {
        "id": "-2QEEoFI4Uju",
        "colab_type": "code",
        "outputId": "72234a56-05ac-4fa1-9c12-634fefc5e7f8",
        "colab": {
          "base_uri": "https://localhost:8080/",
          "height": 34
        }
      },
      "source": [
        "valid[\"labels\"][100]"
      ],
      "execution_count": 36,
      "outputs": [
        {
          "output_type": "execute_result",
          "data": {
            "text/plain": [
              "31"
            ]
          },
          "metadata": {
            "tags": []
          },
          "execution_count": 36
        }
      ]
    },
    {
      "cell_type": "code",
      "metadata": {
        "id": "smlCiq6n4Ugg",
        "colab_type": "code",
        "outputId": "d88724f6-8db1-445f-910f-2d2ca87f34f6",
        "colab": {
          "base_uri": "https://localhost:8080/",
          "height": 51
        }
      },
      "source": [
        "validy[100]"
      ],
      "execution_count": 37,
      "outputs": [
        {
          "output_type": "execute_result",
          "data": {
            "text/plain": [
              "array([0, 0, 0, 0, 0, 0, 0, 0, 0, 0, 0, 0, 0, 0, 0, 0, 0, 0, 0, 0, 0, 0,\n",
              "       0, 0, 0, 0, 0, 0, 0, 0, 0, 1, 0, 0, 0, 0, 0, 0, 0, 0, 0, 0, 0])"
            ]
          },
          "metadata": {
            "tags": []
          },
          "execution_count": 37
        }
      ]
    },
    {
      "cell_type": "code",
      "metadata": {
        "id": "uBM8J_wp4UbB",
        "colab_type": "code",
        "colab": {}
      },
      "source": [
        "from tensorflow.keras.models import Sequential\n",
        "from tensorflow.keras.layers import BatchNormalization\n",
        "from tensorflow.keras.layers import AveragePooling2D\n",
        "from tensorflow.keras.layers import MaxPooling2D\n",
        "from tensorflow.keras.layers import Conv2D\n",
        "from tensorflow.keras.layers import Activation\n",
        "from tensorflow.keras.layers import Dropout\n",
        "from tensorflow.keras.layers import Flatten\n",
        "from tensorflow.keras.layers import Input\n",
        "from tensorflow.keras.layers import Dense\n",
        "from tensorflow.keras.layers import concatenate\n",
        "from tensorflow.keras.optimizers import  SGD\n",
        "from tensorflow.keras.preprocessing.image import ImageDataGenerator\n"
      ],
      "execution_count": 0,
      "outputs": []
    },
    {
      "cell_type": "code",
      "metadata": {
        "id": "EOy26NNg4UYk",
        "colab_type": "code",
        "colab": {}
      },
      "source": [
        "model = Sequential()"
      ],
      "execution_count": 0,
      "outputs": []
    },
    {
      "cell_type": "code",
      "metadata": {
        "id": "cBDKlqzc4UWR",
        "colab_type": "code",
        "colab": {}
      },
      "source": [
        "width = 32\n",
        "height = 32\n",
        "classes = 43"
      ],
      "execution_count": 0,
      "outputs": []
    },
    {
      "cell_type": "code",
      "metadata": {
        "id": "xImyHj-O4UTN",
        "colab_type": "code",
        "colab": {}
      },
      "source": [
        "shape = (width,height,3)"
      ],
      "execution_count": 0,
      "outputs": []
    },
    {
      "cell_type": "code",
      "metadata": {
        "id": "_tb8anOK4UR2",
        "colab_type": "code",
        "colab": {}
      },
      "source": [
        "model.add(Conv2D(32,(3,3), padding=\"same\", input_shape=shape))"
      ],
      "execution_count": 0,
      "outputs": []
    },
    {
      "cell_type": "code",
      "metadata": {
        "id": "CWmcp-hHUSwT",
        "colab_type": "code",
        "colab": {}
      },
      "source": [
        "model.add(Activation(\"relu\"))"
      ],
      "execution_count": 0,
      "outputs": []
    },
    {
      "cell_type": "code",
      "metadata": {
        "id": "mYTWOghTUaiz",
        "colab_type": "code",
        "colab": {}
      },
      "source": [
        "model.add(BatchNormalization())"
      ],
      "execution_count": 0,
      "outputs": []
    },
    {
      "cell_type": "code",
      "metadata": {
        "id": "ojixIGYXUabc",
        "colab_type": "code",
        "colab": {}
      },
      "source": [
        "model.add(Conv2D(32,(3,3), padding=\"same\"))"
      ],
      "execution_count": 0,
      "outputs": []
    },
    {
      "cell_type": "code",
      "metadata": {
        "id": "OqECW1cSUaYv",
        "colab_type": "code",
        "colab": {}
      },
      "source": [
        "model.add(Activation(\"relu\"))"
      ],
      "execution_count": 0,
      "outputs": []
    },
    {
      "cell_type": "code",
      "metadata": {
        "id": "oO8VxeC4VAso",
        "colab_type": "code",
        "colab": {}
      },
      "source": [
        "model.add(BatchNormalization())"
      ],
      "execution_count": 0,
      "outputs": []
    },
    {
      "cell_type": "code",
      "metadata": {
        "id": "KwrqD1jxVAjG",
        "colab_type": "code",
        "colab": {}
      },
      "source": [
        "model.add(MaxPooling2D(pool_size=(2,2)))"
      ],
      "execution_count": 0,
      "outputs": []
    },
    {
      "cell_type": "code",
      "metadata": {
        "id": "G4BV56oQVAgr",
        "colab_type": "code",
        "colab": {}
      },
      "source": [
        "model.add(Conv2D(64,(3,3), padding=\"same\"))"
      ],
      "execution_count": 0,
      "outputs": []
    },
    {
      "cell_type": "code",
      "metadata": {
        "id": "t6Ny9SPiVAeo",
        "colab_type": "code",
        "colab": {}
      },
      "source": [
        "model.add(Activation(\"relu\"))"
      ],
      "execution_count": 0,
      "outputs": []
    },
    {
      "cell_type": "code",
      "metadata": {
        "id": "RWWGyCzqVAbO",
        "colab_type": "code",
        "colab": {}
      },
      "source": [
        "model.add(BatchNormalization())"
      ],
      "execution_count": 0,
      "outputs": []
    },
    {
      "cell_type": "code",
      "metadata": {
        "id": "vivTA86iov5c",
        "colab_type": "code",
        "colab": {}
      },
      "source": [
        "model.add(Conv2D(64,(3,3), padding=\"same\"))"
      ],
      "execution_count": 0,
      "outputs": []
    },
    {
      "cell_type": "code",
      "metadata": {
        "id": "u-D-FvR1ovus",
        "colab_type": "code",
        "colab": {}
      },
      "source": [
        "model.add(Activation(\"relu\"))"
      ],
      "execution_count": 0,
      "outputs": []
    },
    {
      "cell_type": "code",
      "metadata": {
        "id": "Dzsr5pUOovj2",
        "colab_type": "code",
        "colab": {}
      },
      "source": [
        "model.add(BatchNormalization())"
      ],
      "execution_count": 0,
      "outputs": []
    },
    {
      "cell_type": "code",
      "metadata": {
        "id": "Pc1Y6zAkun2N",
        "colab_type": "code",
        "colab": {}
      },
      "source": [
        "model.add(Conv2D(64,(3,3), padding=\"same\"))"
      ],
      "execution_count": 0,
      "outputs": []
    },
    {
      "cell_type": "code",
      "metadata": {
        "id": "JBM7FBJ3uo1h",
        "colab_type": "code",
        "colab": {}
      },
      "source": [
        "model.add(Activation(\"relu\"))"
      ],
      "execution_count": 0,
      "outputs": []
    },
    {
      "cell_type": "code",
      "metadata": {
        "id": "zVZYDuufuook",
        "colab_type": "code",
        "colab": {}
      },
      "source": [
        "model.add(BatchNormalization())"
      ],
      "execution_count": 0,
      "outputs": []
    },
    {
      "cell_type": "code",
      "metadata": {
        "id": "pCAxz23qV5S4",
        "colab_type": "code",
        "colab": {}
      },
      "source": [
        "model.add(MaxPooling2D(pool_size=(2,2)))"
      ],
      "execution_count": 0,
      "outputs": []
    },
    {
      "cell_type": "code",
      "metadata": {
        "id": "h7qoUz02UaUh",
        "colab_type": "code",
        "colab": {}
      },
      "source": [
        "model.add(Flatten())"
      ],
      "execution_count": 0,
      "outputs": []
    },
    {
      "cell_type": "code",
      "metadata": {
        "id": "EzBC6ZZrV5Qi",
        "colab_type": "code",
        "colab": {}
      },
      "source": [
        "model.add(Dense(512))"
      ],
      "execution_count": 0,
      "outputs": []
    },
    {
      "cell_type": "code",
      "metadata": {
        "id": "GYWngsZUV5NE",
        "colab_type": "code",
        "colab": {}
      },
      "source": [
        "model.add(Activation(\"relu\"))"
      ],
      "execution_count": 0,
      "outputs": []
    },
    {
      "cell_type": "code",
      "metadata": {
        "id": "HAxrKWwAW-Y7",
        "colab_type": "code",
        "colab": {}
      },
      "source": [
        "model.add(BatchNormalization())"
      ],
      "execution_count": 0,
      "outputs": []
    },
    {
      "cell_type": "code",
      "metadata": {
        "id": "Fgj7IFnsW9cK",
        "colab_type": "code",
        "colab": {}
      },
      "source": [
        "model.add(Dense(classes))"
      ],
      "execution_count": 0,
      "outputs": []
    },
    {
      "cell_type": "code",
      "metadata": {
        "id": "VNHTgd-lW9YW",
        "colab_type": "code",
        "colab": {}
      },
      "source": [
        "model.add(Activation(\"softmax\"))"
      ],
      "execution_count": 0,
      "outputs": []
    },
    {
      "cell_type": "code",
      "metadata": {
        "id": "Q4O6jPCz4UN3",
        "colab_type": "code",
        "outputId": "09a06184-b979-4e03-ed24-13dd5ccccaf7",
        "colab": {
          "base_uri": "https://localhost:8080/",
          "height": 935
        }
      },
      "source": [
        "model.summary()"
      ],
      "execution_count": 65,
      "outputs": [
        {
          "output_type": "stream",
          "text": [
            "Model: \"sequential\"\n",
            "_________________________________________________________________\n",
            "Layer (type)                 Output Shape              Param #   \n",
            "=================================================================\n",
            "conv2d (Conv2D)              (None, 32, 32, 32)        896       \n",
            "_________________________________________________________________\n",
            "activation (Activation)      (None, 32, 32, 32)        0         \n",
            "_________________________________________________________________\n",
            "batch_normalization (BatchNo (None, 32, 32, 32)        128       \n",
            "_________________________________________________________________\n",
            "conv2d_1 (Conv2D)            (None, 32, 32, 32)        9248      \n",
            "_________________________________________________________________\n",
            "activation_1 (Activation)    (None, 32, 32, 32)        0         \n",
            "_________________________________________________________________\n",
            "batch_normalization_1 (Batch (None, 32, 32, 32)        128       \n",
            "_________________________________________________________________\n",
            "max_pooling2d (MaxPooling2D) (None, 16, 16, 32)        0         \n",
            "_________________________________________________________________\n",
            "conv2d_2 (Conv2D)            (None, 16, 16, 64)        18496     \n",
            "_________________________________________________________________\n",
            "activation_2 (Activation)    (None, 16, 16, 64)        0         \n",
            "_________________________________________________________________\n",
            "batch_normalization_2 (Batch (None, 16, 16, 64)        256       \n",
            "_________________________________________________________________\n",
            "conv2d_3 (Conv2D)            (None, 16, 16, 64)        36928     \n",
            "_________________________________________________________________\n",
            "activation_3 (Activation)    (None, 16, 16, 64)        0         \n",
            "_________________________________________________________________\n",
            "batch_normalization_3 (Batch (None, 16, 16, 64)        256       \n",
            "_________________________________________________________________\n",
            "conv2d_4 (Conv2D)            (None, 16, 16, 64)        36928     \n",
            "_________________________________________________________________\n",
            "activation_4 (Activation)    (None, 16, 16, 64)        0         \n",
            "_________________________________________________________________\n",
            "batch_normalization_4 (Batch (None, 16, 16, 64)        256       \n",
            "_________________________________________________________________\n",
            "max_pooling2d_1 (MaxPooling2 (None, 8, 8, 64)          0         \n",
            "_________________________________________________________________\n",
            "flatten (Flatten)            (None, 4096)              0         \n",
            "_________________________________________________________________\n",
            "dense (Dense)                (None, 512)               2097664   \n",
            "_________________________________________________________________\n",
            "activation_5 (Activation)    (None, 512)               0         \n",
            "_________________________________________________________________\n",
            "batch_normalization_5 (Batch (None, 512)               2048      \n",
            "_________________________________________________________________\n",
            "dense_1 (Dense)              (None, 43)                22059     \n",
            "_________________________________________________________________\n",
            "activation_6 (Activation)    (None, 43)                0         \n",
            "=================================================================\n",
            "Total params: 2,225,291\n",
            "Trainable params: 2,223,755\n",
            "Non-trainable params: 1,536\n",
            "_________________________________________________________________\n"
          ],
          "name": "stdout"
        }
      ]
    },
    {
      "cell_type": "code",
      "metadata": {
        "id": "L6D76C3E4ULI",
        "colab_type": "code",
        "colab": {}
      },
      "source": [
        "aug = ImageDataGenerator(rotation_range=0.18, zoom_range=0.15,width_shift_range=0.2, height_shift_range=0.2, horizontal_flip=True)"
      ],
      "execution_count": 0,
      "outputs": []
    },
    {
      "cell_type": "code",
      "metadata": {
        "id": "FE223dxT4UH1",
        "colab_type": "code",
        "colab": {}
      },
      "source": [
        "learning_rate = 0.01"
      ],
      "execution_count": 0,
      "outputs": []
    },
    {
      "cell_type": "code",
      "metadata": {
        "id": "yROfhYZg4UEi",
        "colab_type": "code",
        "colab": {}
      },
      "source": [
        "epochs = 10\n",
        "batch_size = 64"
      ],
      "execution_count": 0,
      "outputs": []
    },
    {
      "cell_type": "code",
      "metadata": {
        "id": "p7J7Q2x9Yo6v",
        "colab_type": "code",
        "colab": {}
      },
      "source": [
        "opt = SGD(learning_rate = learning_rate, momentum = 0.9)"
      ],
      "execution_count": 0,
      "outputs": []
    },
    {
      "cell_type": "code",
      "metadata": {
        "id": "j9PuDnamYo4q",
        "colab_type": "code",
        "colab": {}
      },
      "source": [
        "model.compile(optimizer=opt, loss=\"binary_crossentropy\", metrics=[\"accuracy\"])"
      ],
      "execution_count": 0,
      "outputs": []
    },
    {
      "cell_type": "code",
      "metadata": {
        "id": "gIRRt4y1Yo2Q",
        "colab_type": "code",
        "outputId": "95cf234a-63df-4810-d77c-656390ab9f4b",
        "colab": {
          "base_uri": "https://localhost:8080/",
          "height": 34
        }
      },
      "source": [
        "print(\"start trainning\")"
      ],
      "execution_count": 71,
      "outputs": [
        {
          "output_type": "stream",
          "text": [
            "start trainning\n"
          ],
          "name": "stdout"
        }
      ]
    },
    {
      "cell_type": "code",
      "metadata": {
        "id": "AhuJWxGbYoze",
        "colab_type": "code",
        "outputId": "6a318186-fa02-498d-b565-34907ad41885",
        "colab": {
          "base_uri": "https://localhost:8080/",
          "height": 408
        }
      },
      "source": [
        "H = model.fit_generator(aug.flow(trainX,trainy,batch_size=batch_size), validation_data=(validX,validy),steps_per_epoch=trainX.shape[0]//batch_size, epochs=epochs,verbose=1)"
      ],
      "execution_count": 72,
      "outputs": [
        {
          "output_type": "stream",
          "text": [
            "WARNING:tensorflow:From <ipython-input-72-08beeffc0424>:1: Model.fit_generator (from tensorflow.python.keras.engine.training) is deprecated and will be removed in a future version.\n",
            "Instructions for updating:\n",
            "Please use Model.fit, which supports generators.\n",
            "Epoch 1/10\n",
            "543/543 [==============================] - 29s 54ms/step - loss: 0.0915 - accuracy: 0.2269 - val_loss: 0.0835 - val_accuracy: 0.2814\n",
            "Epoch 2/10\n",
            "543/543 [==============================] - 30s 55ms/step - loss: 0.0676 - accuracy: 0.4098 - val_loss: 0.0733 - val_accuracy: 0.3916\n",
            "Epoch 3/10\n",
            "543/543 [==============================] - 30s 56ms/step - loss: 0.0554 - accuracy: 0.5131 - val_loss: 0.0647 - val_accuracy: 0.4374\n",
            "Epoch 4/10\n",
            "543/543 [==============================] - 30s 55ms/step - loss: 0.0473 - accuracy: 0.5845 - val_loss: 0.0584 - val_accuracy: 0.4850\n",
            "Epoch 5/10\n",
            "543/543 [==============================] - 30s 55ms/step - loss: 0.0418 - accuracy: 0.6359 - val_loss: 0.0562 - val_accuracy: 0.5059\n",
            "Epoch 6/10\n",
            "543/543 [==============================] - 30s 55ms/step - loss: 0.0370 - accuracy: 0.6805 - val_loss: 0.0493 - val_accuracy: 0.5560\n",
            "Epoch 7/10\n",
            "543/543 [==============================] - 30s 55ms/step - loss: 0.0331 - accuracy: 0.7189 - val_loss: 0.0481 - val_accuracy: 0.5859\n",
            "Epoch 8/10\n",
            "543/543 [==============================] - 30s 55ms/step - loss: 0.0296 - accuracy: 0.7522 - val_loss: 0.0464 - val_accuracy: 0.6023\n",
            "Epoch 9/10\n",
            "543/543 [==============================] - 30s 55ms/step - loss: 0.0268 - accuracy: 0.7805 - val_loss: 0.0472 - val_accuracy: 0.5971\n",
            "Epoch 10/10\n",
            "543/543 [==============================] - 30s 55ms/step - loss: 0.0242 - accuracy: 0.8016 - val_loss: 0.0432 - val_accuracy: 0.6293\n"
          ],
          "name": "stdout"
        }
      ]
    },
    {
      "cell_type": "code",
      "metadata": {
        "id": "YQZjfSIlxdRQ",
        "colab_type": "code",
        "outputId": "c34749e5-892a-428d-9275-faa99becd972",
        "colab": {
          "base_uri": "https://localhost:8080/",
          "height": 187
        }
      },
      "source": [
        "H.history['accuracy']"
      ],
      "execution_count": 73,
      "outputs": [
        {
          "output_type": "execute_result",
          "data": {
            "text/plain": [
              "[0.2269221842288971,\n",
              " 0.4098171889781952,\n",
              " 0.5131423473358154,\n",
              " 0.5844537019729614,\n",
              " 0.6359003782272339,\n",
              " 0.6805239915847778,\n",
              " 0.7188714742660522,\n",
              " 0.7521520256996155,\n",
              " 0.7805095911026001,\n",
              " 0.8015546202659607]"
            ]
          },
          "metadata": {
            "tags": []
          },
          "execution_count": 73
        }
      ]
    },
    {
      "cell_type": "code",
      "metadata": {
        "id": "PGiDcM8LYoxv",
        "colab_type": "code",
        "colab": {}
      },
      "source": [
        "model.save(\"sanghandsome.h5\")"
      ],
      "execution_count": 0,
      "outputs": []
    },
    {
      "cell_type": "code",
      "metadata": {
        "id": "B5cWaVRPab33",
        "colab_type": "code",
        "colab": {}
      },
      "source": [
        "save_model = tf.keras.models.load_model(\"sanghandsome.h5\")"
      ],
      "execution_count": 0,
      "outputs": []
    },
    {
      "cell_type": "code",
      "metadata": {
        "id": "IADgSfIrYovO",
        "colab_type": "code",
        "colab": {}
      },
      "source": [
        "reult = save_model.predict(testX[70:71])"
      ],
      "execution_count": 0,
      "outputs": []
    },
    {
      "cell_type": "code",
      "metadata": {
        "id": "G2ShwMAgYosQ",
        "colab_type": "code",
        "colab": {
          "base_uri": "https://localhost:8080/",
          "height": 204
        },
        "outputId": "fc3608dd-ebcd-4af8-9b62-b7fb3a75b438"
      },
      "source": [
        "reult"
      ],
      "execution_count": 77,
      "outputs": [
        {
          "output_type": "execute_result",
          "data": {
            "text/plain": [
              "array([[3.36835132e-04, 2.08146176e-08, 2.16088935e-07, 2.98548781e-04,\n",
              "        5.69619125e-08, 1.30903558e-07, 1.22943004e-06, 6.76698804e-08,\n",
              "        1.35769210e-06, 1.38193414e-07, 2.50658582e-06, 6.77420497e-01,\n",
              "        2.22889590e-04, 3.10503765e-07, 4.25636899e-05, 7.07666629e-07,\n",
              "        5.38308464e-04, 2.62734684e-04, 1.12268201e-03, 3.33304354e-03,\n",
              "        9.43580759e-04, 3.54760513e-02, 3.77570046e-03, 5.14764618e-03,\n",
              "        2.34039919e-03, 4.37086169e-03, 1.06600695e-03, 6.02674857e-03,\n",
              "        2.16566045e-02, 1.71757815e-03, 2.32396513e-01, 9.72139358e-04,\n",
              "        1.53253113e-05, 4.36931259e-06, 1.02091151e-04, 8.97822702e-06,\n",
              "        1.29664249e-06, 1.02489112e-05, 1.10919354e-04, 3.35582881e-05,\n",
              "        9.23508414e-05, 8.61307058e-07, 1.45222890e-04]], dtype=float32)"
            ]
          },
          "metadata": {
            "tags": []
          },
          "execution_count": 77
        }
      ]
    },
    {
      "cell_type": "code",
      "metadata": {
        "id": "Ch2O4t0c4UCF",
        "colab_type": "code",
        "colab": {}
      },
      "source": [
        " import numpy as np"
      ],
      "execution_count": 0,
      "outputs": []
    },
    {
      "cell_type": "code",
      "metadata": {
        "id": "2nADQg8dbIYl",
        "colab_type": "code",
        "colab": {}
      },
      "source": [
        "final = np.argmax(reult)"
      ],
      "execution_count": 0,
      "outputs": []
    },
    {
      "cell_type": "code",
      "metadata": {
        "id": "UsUuEDR5bL1H",
        "colab_type": "code",
        "colab": {}
      },
      "source": [
        "final = classNames[final]"
      ],
      "execution_count": 0,
      "outputs": []
    },
    {
      "cell_type": "code",
      "metadata": {
        "id": "bRVgMPvLbL6o",
        "colab_type": "code",
        "colab": {
          "base_uri": "https://localhost:8080/",
          "height": 34
        },
        "outputId": "45567758-27d1-4b4a-9168-08ccb70bebae"
      },
      "source": [
        "final"
      ],
      "execution_count": 81,
      "outputs": [
        {
          "output_type": "execute_result",
          "data": {
            "text/plain": [
              "'Right-of-way at the next intersection'"
            ]
          },
          "metadata": {
            "tags": []
          },
          "execution_count": 81
        }
      ]
    },
    {
      "cell_type": "code",
      "metadata": {
        "id": "O7mOZW0BbL4J",
        "colab_type": "code",
        "colab": {
          "base_uri": "https://localhost:8080/",
          "height": 283
        },
        "outputId": "94fb7d93-56b9-454e-b064-84cd6a7058b2"
      },
      "source": [
        "plt.imshow(test[\"features\"][70])"
      ],
      "execution_count": 82,
      "outputs": [
        {
          "output_type": "execute_result",
          "data": {
            "text/plain": [
              "<matplotlib.image.AxesImage at 0x7f8f43b86908>"
            ]
          },
          "metadata": {
            "tags": []
          },
          "execution_count": 82
        },
        {
          "output_type": "display_data",
          "data": {
            "image/png": "[encoded data removed]",
            "text/plain": [
              "<Figure size 432x288 with 1 Axes>"
            ]
          },
          "metadata": {
            "tags": [],
            "needs_background": "light"
          }
        }
      ]
    }
  ]
}